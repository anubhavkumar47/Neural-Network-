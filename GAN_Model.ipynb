{
  "nbformat": 4,
  "nbformat_minor": 0,
  "metadata": {
    "colab": {
      "provenance": [],
      "authorship_tag": "ABX9TyMW5CBPGM3HFTAQ9kk90x8m",
      "include_colab_link": true
    },
    "kernelspec": {
      "name": "python3",
      "display_name": "Python 3"
    },
    "language_info": {
      "name": "python"
    }
  },
  "cells": [
    {
      "cell_type": "markdown",
      "metadata": {
        "id": "view-in-github",
        "colab_type": "text"
      },
      "source": [
        "<a href=\"https://colab.research.google.com/github/anubhavkumar47/Neural-Network-/blob/main/GAN_Model.ipynb\" target=\"_parent\"><img src=\"https://colab.research.google.com/assets/colab-badge.svg\" alt=\"Open In Colab\"/></a>"
      ]
    },
    {
      "cell_type": "code",
      "execution_count": 8,
      "metadata": {
        "id": "C4m1HqgGmf21"
      },
      "outputs": [],
      "source": [
        "#this code is for generative adversial network on mnist data set"
      ]
    },
    {
      "cell_type": "code",
      "source": [
        "#all requried libarary\n",
        "import numpy as np\n",
        "import tensorflow as tf\n",
        "from tensorflow.keras import Sequential\n",
        "from tensorflow.keras.layers import Dense,Reshape,LeakyReLU,Flatten\n",
        "from tensorflow.keras.optimizers import Adam\n",
        "from tensorflow.keras.datasets import mnist\n",
        "import matplotlib.pyplot as plt\n",
        "import seaborn as sns"
      ],
      "metadata": {
        "id": "1-hSeJpxq8S0"
      },
      "execution_count": 9,
      "outputs": []
    },
    {
      "cell_type": "code",
      "source": [
        "(x_train,y_train),(x_test,y_test)=mnist.load_data()\n",
        "x_train = (x_train-127.5)/127.5\n",
        "input_vector_size=100"
      ],
      "metadata": {
        "id": "HvGroaIhtGmc"
      },
      "execution_count": 10,
      "outputs": []
    },
    {
      "cell_type": "code",
      "source": [
        "#making the generator network\n",
        "def build_generator():\n",
        "  model =Sequential([\n",
        "      Dense(128,input_dim =input_vector_size),\n",
        "      LeakyReLU(0.2),\n",
        "      Dense(784,activation='tanh'),\n",
        "      Reshape((28,28)) #for 28*28 image\n",
        "  ])\n",
        "  return model\n",
        "\n",
        "def build_discrimanaior():\n",
        "  model = Sequential([\n",
        "      Flatten(input_shape=(28,28)),\n",
        "      Dense(128),\n",
        "      LeakyReLU(0.2),\n",
        "      Dense(1,activation='sigmoid')\n",
        "  ])\n",
        "  return model\n",
        "\n",
        "\n",
        "\n"
      ],
      "metadata": {
        "id": "i5TSW6mxrmYY"
      },
      "execution_count": 11,
      "outputs": []
    },
    {
      "cell_type": "code",
      "source": [
        "#compling the discrimanator\n",
        "discrimanator = build_discrimanaior()\n",
        "discrimanator.compile(loss='binary_crossentropy', optimizer=Adam(0.0002, 0.5), metrics=['accuracy'])\n",
        "\n"
      ],
      "metadata": {
        "id": "pdDgWdY3vAlN"
      },
      "execution_count": 12,
      "outputs": []
    },
    {
      "cell_type": "code",
      "source": [
        "#build and compile the complete model\n",
        "generator = build_generator()\n",
        "\n",
        "discrimanator.trainable =False\n",
        "\n",
        "gan_input =tf.keras.Input(shape=(100,))\n",
        "\n",
        "gen_image=generator(gan_input)\n",
        "gan_output = discrimanator(gen_image)\n",
        "\n",
        "combinded_model =tf.keras.Model(gan_input,gan_output)\n",
        "combinded_model.compile(loss='binary_crossentropy', optimizer=Adam(0.0002, 0.5))"
      ],
      "metadata": {
        "colab": {
          "base_uri": "https://localhost:8080/"
        },
        "id": "RmFcZhpIvfLU",
        "outputId": "20c42228-9540-42ce-9717-bd972a417121"
      },
      "execution_count": 13,
      "outputs": [
        {
          "output_type": "stream",
          "name": "stderr",
          "text": [
            "/usr/local/lib/python3.11/dist-packages/keras/src/layers/core/dense.py:87: UserWarning: Do not pass an `input_shape`/`input_dim` argument to a layer. When using Sequential models, prefer using an `Input(shape)` object as the first layer in the model instead.\n",
            "  super().__init__(activity_regularizer=activity_regularizer, **kwargs)\n"
          ]
        }
      ]
    },
    {
      "cell_type": "code",
      "source": [
        "#gan Training\n",
        "\n",
        "def train_gan(epochs=100, batch_size=128):\n",
        "  half_batch = int(batch_size / 2)\n",
        "  for epoch in range(epochs):\n",
        "    idx = np.random.randint(0, x_train.shape[0], half_batch)\n",
        "    real_images = x_train[idx]\n",
        "\n",
        "    noise = np.random.normal(0, 1, (half_batch, 100))\n",
        "    fake_images = generator.predict(noise)\n",
        "\n",
        "    d_fake_loss = discrimanator.train_on_batch(fake_images, np.zeros((half_batch, 1)))\n",
        "    d_real_loss = discrimanator.train_on_batch(real_images, np.ones((half_batch, 1)))\n",
        "    d_loss = 0.5 * np.add(d_fake_loss, d_real_loss)\n",
        "\n",
        "    noise = np.random.normal(0, 1, (batch_size, 100))\n",
        "    g_loss = combinded_model.train_on_batch(noise, np.ones((batch_size, 1)))\n",
        "\n",
        "    print(f\"Epoch {epoch+1}/{epochs} - Discriminator Loss: {d_loss[0]} - Generator Loss: {g_loss}\")\n",
        "\n",
        "    if epoch % 500 == 0:\n",
        "      plt.imshow(fake_images[0], cmap='gray')\n",
        "      plt.title(epoch)\n",
        "      plt.axis('off')\n",
        "      plt.show()\n",
        ""
      ],
      "metadata": {
        "id": "zU7dRj6sw13a"
      },
      "execution_count": 20,
      "outputs": []
    }
  ]
}